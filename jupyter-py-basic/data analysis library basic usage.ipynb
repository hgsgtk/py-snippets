{
 "cells": [
  {
   "cell_type": "code",
   "execution_count": 1,
   "metadata": {},
   "outputs": [
    {
     "data": {
      "text/plain": [
       "'%.3f'"
      ]
     },
     "execution_count": 1,
     "metadata": {},
     "output_type": "execute_result"
    }
   ],
   "source": [
    "import numpy as np\n",
    "import numpy.random as random\n",
    "import scipy as sp\n",
    "import pandas as pd\n",
    "from pandas import Series, DataFrame\n",
    "\n",
    "import matplotlib.pyplot as plt\n",
    "import matplotlib as mpl\n",
    "import seaborn as sns\n",
    "%matplotlib inline\n",
    "\n",
    "%precision 3\n",
    "\n"
   ]
  },
  {
   "cell_type": "code",
   "execution_count": 15,
   "metadata": {},
   "outputs": [
    {
     "name": "stdout",
     "output_type": "stream",
     "text": [
      "[ 9  2  3  4 10  6  7  8  1  5]\n",
      "int64\n",
      "dimension num:  1\n",
      "element num:  10\n",
      "[18  4  6  8 20 12 14 16  2 10]\n",
      "after sorted:  [ 1  2  3  4  5  6  7  8  9 10]\n",
      "after sorted:  [10  9  8  7  6  5  4  3  2  1]\n",
      "Min:  1\n",
      "Max:  10\n",
      "Sum:  55\n",
      "Cum:  [10 19 27 34 40 45 49 52 54 55]\n",
      "Ratio:  [0.182 0.345 0.491 0.618 0.727 0.818 0.891 0.945 0.982 1.   ]\n"
     ]
    }
   ],
   "source": [
    "import numpy as np\n",
    "%precision 3\n",
    "\n",
    "data = np.array([9, 2, 3, 4, 10, 6, 7, 8, 1, 5])\n",
    "print(data)\n",
    "print(data.dtype)\n",
    "print('dimension num: ', data.ndim)\n",
    "print('element num: ', data.size)\n",
    "print(data * 2)\n",
    "\n",
    "data.sort()\n",
    "print('after sorted: ', data)\n",
    "data[::-1].sort()\n",
    "print('after sorted: ', data)\n",
    "\n",
    "print('Min: ', data.min())\n",
    "print('Max: ', data.max())\n",
    "print('Sum: ', data.sum())\n",
    "print('Cum: ', data.cumsum())\n",
    "print('Ratio: ', data.cumsum() / data.sum())"
   ]
  },
  {
   "cell_type": "code",
   "execution_count": 25,
   "metadata": {},
   "outputs": [
    {
     "name": "stdout",
     "output_type": "stream",
     "text": [
      "10 random numbers array:  [-1.271  0.176 -0.296  0.327 -0.973  0.228 -0.819  0.107  0.975  0.082]\n",
      "[8 1 5 3 4]\n",
      "[ 1  2  3  4 10]\n"
     ]
    }
   ],
   "source": [
    "import numpy as np\n",
    "%precision 3\n",
    "import numpy.random as random\n",
    "\n",
    "random.seed(10000)\n",
    "rnd_data = random.randn(10)\n",
    "print('10 random numbers array: ', rnd_data)\n",
    "\n",
    "data = np.array([9, 2, 3, 4, 10, 6, 7, 8, 1, 5])\n",
    "print(random.choice(data, 5))\n",
    "print(random.choice(data, 5, replace=False))"
   ]
  },
  {
   "cell_type": "code",
   "execution_count": 27,
   "metadata": {},
   "outputs": [
    {
     "name": "stdout",
     "output_type": "stream",
     "text": [
      "3.74 ms ± 142 µs per loop (mean ± std. dev. of 7 runs, 100 loops each)\n",
      "501 µs ± 121 µs per loop (mean ± std. dev. of 7 runs, 1000 loops each)\n"
     ]
    }
   ],
   "source": [
    "import numpy as np\n",
    "\n",
    "N = 10**6\n",
    "normal_data = [random.random() for _ in range(N)]\n",
    "\n",
    "numpy_random_data = np.array(normal_data)\n",
    "\n",
    "%timeit sum(normal_data)\n",
    "\n",
    "%timeit np.sum(numpy_random_data)"
   ]
  }
 ],
 "metadata": {
  "kernelspec": {
   "display_name": "Python 3",
   "language": "python",
   "name": "python3"
  },
  "language_info": {
   "codemirror_mode": {
    "name": "ipython",
    "version": 3
   },
   "file_extension": ".py",
   "mimetype": "text/x-python",
   "name": "python",
   "nbconvert_exporter": "python",
   "pygments_lexer": "ipython3",
   "version": "3.7.3"
  }
 },
 "nbformat": 4,
 "nbformat_minor": 2
}
