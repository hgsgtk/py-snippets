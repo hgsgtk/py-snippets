{
 "cells": [
  {
   "cell_type": "code",
   "execution_count": 1,
   "metadata": {},
   "outputs": [
    {
     "data": {
      "text/plain": [
       "'%.3f'"
      ]
     },
     "execution_count": 1,
     "metadata": {},
     "output_type": "execute_result"
    }
   ],
   "source": [
    "import numpy as np\n",
    "import numpy.random as random\n",
    "import scipy as sp\n",
    "import pandas as pd\n",
    "from pandas import Series, DataFrame\n",
    "\n",
    "import matplotlib.pyplot as plt\n",
    "import matplotlib as mpl\n",
    "import seaborn as sns\n",
    "%matplotlib inline\n",
    "\n",
    "%precision 3\n",
    "\n"
   ]
  },
  {
   "cell_type": "code",
   "execution_count": 15,
   "metadata": {},
   "outputs": [
    {
     "name": "stdout",
     "output_type": "stream",
     "text": [
      "[ 9  2  3  4 10  6  7  8  1  5]\n",
      "int64\n",
      "dimension num:  1\n",
      "element num:  10\n",
      "[18  4  6  8 20 12 14 16  2 10]\n",
      "after sorted:  [ 1  2  3  4  5  6  7  8  9 10]\n",
      "after sorted:  [10  9  8  7  6  5  4  3  2  1]\n",
      "Min:  1\n",
      "Max:  10\n",
      "Sum:  55\n",
      "Cum:  [10 19 27 34 40 45 49 52 54 55]\n",
      "Ratio:  [0.182 0.345 0.491 0.618 0.727 0.818 0.891 0.945 0.982 1.   ]\n"
     ]
    }
   ],
   "source": [
    "import numpy as np\n",
    "%precision 3\n",
    "\n",
    "data = np.array([9, 2, 3, 4, 10, 6, 7, 8, 1, 5])\n",
    "print(data)\n",
    "print(data.dtype)\n",
    "print('dimension num: ', data.ndim)\n",
    "print('element num: ', data.size)\n",
    "print(data * 2)\n",
    "\n",
    "data.sort()\n",
    "print('after sorted: ', data)\n",
    "data[::-1].sort()\n",
    "print('after sorted: ', data)\n",
    "\n",
    "print('Min: ', data.min())\n",
    "print('Max: ', data.max())\n",
    "print('Sum: ', data.sum())\n",
    "print('Cum: ', data.cumsum())\n",
    "print('Ratio: ', data.cumsum() / data.sum())"
   ]
  },
  {
   "cell_type": "code",
   "execution_count": 25,
   "metadata": {},
   "outputs": [
    {
     "name": "stdout",
     "output_type": "stream",
     "text": [
      "10 random numbers array:  [-1.271  0.176 -0.296  0.327 -0.973  0.228 -0.819  0.107  0.975  0.082]\n",
      "[8 1 5 3 4]\n",
      "[ 1  2  3  4 10]\n"
     ]
    }
   ],
   "source": [
    "import numpy as np\n",
    "%precision 3\n",
    "import numpy.random as random\n",
    "\n",
    "random.seed(10000)\n",
    "rnd_data = random.randn(10)\n",
    "print('10 random numbers array: ', rnd_data)\n",
    "\n",
    "data = np.array([9, 2, 3, 4, 10, 6, 7, 8, 1, 5])\n",
    "print(random.choice(data, 5))\n",
    "print(random.choice(data, 5, replace=False))"
   ]
  },
  {
   "cell_type": "code",
   "execution_count": 2,
   "metadata": {},
   "outputs": [
    {
     "name": "stdout",
     "output_type": "stream",
     "text": [
      "5.08 ms ± 130 µs per loop (mean ± std. dev. of 7 runs, 100 loops each)\n",
      "542 µs ± 37.8 µs per loop (mean ± std. dev. of 7 runs, 1000 loops each)\n"
     ]
    }
   ],
   "source": [
    "import numpy as np\n",
    "\n",
    "N = 10**6\n",
    "normal_data = [random.random() for _ in range(N)]\n",
    "\n",
    "numpy_random_data = np.array(normal_data)\n",
    "\n",
    "%timeit sum(normal_data)\n",
    "\n",
    "%timeit np.sum(numpy_random_data)"
   ]
  },
  {
   "cell_type": "code",
   "execution_count": 15,
   "metadata": {},
   "outputs": [
    {
     "name": "stdout",
     "output_type": "stream",
     "text": [
      "[0 1 2 3 4 5 6 7 8]\n",
      "[[0 1 2]\n",
      " [3 4 5]\n",
      " [6 7 8]]\n",
      "[0 1 2]\n",
      "[0 3 6]\n",
      "[[ 9 10 11]\n",
      " [12 13 14]\n",
      " [15 16 17]]\n",
      "[[ 42  45  48]\n",
      " [150 162 174]\n",
      " [258 279 300]]\n",
      "[[  0  10  22]\n",
      " [ 36  52  70]\n",
      " [ 90 112 136]]\n",
      "[[0 0 0]\n",
      " [0 0 0]]\n",
      "[[1. 1. 1.]\n",
      " [1. 1. 1.]]\n"
     ]
    }
   ],
   "source": [
    "import numpy as np\n",
    "\n",
    "print(np.arange(9))\n",
    "array1 = np.arange(9).reshape(3, 3)\n",
    "print(array1)\n",
    "print(array1[0,:])\n",
    "print(array1[:,0])\n",
    "\n",
    "array2 = np.arange(9, 18).reshape(3, 3)\n",
    "print(array2)\n",
    "print(np.dot(array1, array2))\n",
    "print(array1 * array2)\n",
    "print(np.zeros((2, 3), dtype = np.int64))\n",
    "print(np.ones((2, 3), dtype = np.float64))"
   ]
  },
  {
   "cell_type": "code",
   "execution_count": 30,
   "metadata": {},
   "outputs": [
    {
     "name": "stdout",
     "output_type": "stream",
     "text": [
      "[ 1  2  3  4  5  6  7  8  9 10 11 12 13 14 15 16 17 18 19 20 21 22 23 24\n",
      " 25 26 27 28 29 30 31 32 33 34 35 36 37 38 39 40 41 42 43 44 45 46 47 48\n",
      " 49 50]\n",
      "total num:  1275\n",
      "1275\n"
     ]
    }
   ],
   "source": [
    "# 練習問題 2-1\n",
    "# 1から50までの自然数の和を計算し、最後の計算結果を表示する\n",
    "# np.arrayで1から50までの配列を作り総和を求める\n",
    "import numpy as np\n",
    "\n",
    "nums = np.arange(1, 51)\n",
    "print(nums)\n",
    "print('total num: ', nums.sum())\n",
    "\n",
    "# answer\n",
    "data = np.array([i for i in range(1, 51)])\n",
    "print(data.sum())"
   ]
  },
  {
   "cell_type": "code",
   "execution_count": 27,
   "metadata": {},
   "outputs": [
    {
     "name": "stdout",
     "output_type": "stream",
     "text": [
      "[ 1.34   1.738  1.499 -0.229  2.031  2.17   1.596 -0.769  0.566 -0.119]\n",
      "min:   -0.7694515563516945\n",
      "max:  2.1703249460565526\n",
      "sum:  9.823247791780027\n"
     ]
    }
   ],
   "source": [
    "# 練習問題 2-2\n",
    "# 標準正規分布に従う乱数を10個発生されて配列を作成\n",
    "# 最小値・最大値・合計を求める\n",
    "\n",
    "import numpy as np\n",
    "import numpy.random as random\n",
    "\n",
    "random.seed(1234567890)\n",
    "rnd_data = random.randn(10)\n",
    "print(rnd_data)\n",
    "print('min:  ', rnd_data.min())\n",
    "print('max: ', rnd_data.max())\n",
    "print('sum: ', rnd_data.sum())"
   ]
  },
  {
   "cell_type": "code",
   "execution_count": 1,
   "metadata": {},
   "outputs": [
    {
     "name": "stdout",
     "output_type": "stream",
     "text": [
      "[[3 3 3 3 3]\n",
      " [3 3 3 3 3]\n",
      " [3 3 3 3 3]\n",
      " [3 3 3 3 3]\n",
      " [3 3 3 3 3]]\n",
      "[[9 9 9 9 9]\n",
      " [9 9 9 9 9]\n",
      " [9 9 9 9 9]\n",
      " [9 9 9 9 9]\n",
      " [9 9 9 9 9]]\n",
      "[[45 45 45 45 45]\n",
      " [45 45 45 45 45]\n",
      " [45 45 45 45 45]\n",
      " [45 45 45 45 45]\n",
      " [45 45 45 45 45]]\n"
     ]
    }
   ],
   "source": [
    "# 練習問題2-3\n",
    "# 要素がすべて3の5x5の行列を作成\n",
    "# 行列を2乗する計算を行う\n",
    "\n",
    "import numpy as np\n",
    "\n",
    "array1 = np.full([5, 5], 3, np.int64)\n",
    "print(array1)\n",
    "print(array1 ** 2)\n",
    "\n",
    "# answer\n",
    "print(array1.dot(array1))"
   ]
  },
  {
   "cell_type": "code",
   "execution_count": 12,
   "metadata": {},
   "outputs": [
    {
     "name": "stdout",
     "output_type": "stream",
     "text": [
      "deteminant\n",
      "-4.0\n",
      "invert determinant\n",
      "[[ 0.  -0.5 -0.5]\n",
      " [-0.5 -0.  -0.5]\n",
      " [-0.5 -0.5  0. ]]\n",
      "[[1. 0. 0.]\n",
      " [0. 1. 0.]\n",
      " [0. 0. 1.]]\n",
      "eigenvalue\n",
      "[-1.+0.j  2.+0.j  2.+0.j]\n",
      "eigenvalue vector\n",
      "[[ 0.57735027 -0.81649658  0.42755853]\n",
      " [ 0.57735027  0.40824829 -0.81618716]\n",
      " [ 0.57735027  0.40824829  0.38862863]]\n"
     ]
    }
   ],
   "source": [
    "import numpy as np\n",
    "import scipy.linalg as linalg\n",
    "from scipy.optimize import minimize_scalar\n",
    "\n",
    "matrix = np.array([[1,-1,-1], [-1,1,-1],[-1,-1,1]])\n",
    "# 行列式\n",
    "# See https://oguemon.com/study/linear-algebra/det-what/\n",
    "# 行列式は、行列の特徴を表す指標の一つで、スカラー（数値）になる\n",
    "# 数学的には、|A| det(A)のどちらかで表される\n",
    "# 行列式は正方行列に対してのみ定義される\n",
    "# 正方行列: 行要素数・列要素数が一致する行列、つまりn*nの行列を示す\n",
    "print('deteminant')\n",
    "print(linalg.det(matrix))\n",
    "\n",
    "# 逆行列\n",
    "# See https://oguemon.com/study/linear-algebra/matrix-regular/\n",
    "# 類似概念 逆数 aに対する1/a\n",
    "print('invert determinant')\n",
    "print(linalg.inv(matrix))\n",
    "\n",
    "# もとの行列と逆行列の積は単位行列\n",
    "print(matrix.dot(linalg.inv(matrix)))\n",
    "\n",
    "# 固有値・固有ベクトル\n",
    "# See https://atarimae.biz/archives/24166\n",
    "# 行列Aの固有ベクトルx = y倍されるだけで方向は変わらないベクトル\n",
    "# 主成分分析に用いる\n",
    "eig_value, eig_vector = linalg.eig(matrix)\n",
    "print('eigenvalue')\n",
    "print(eig_value)\n",
    "print('eigenvalue vector')\n",
    "print(eig_vector)"
   ]
  },
  {
   "cell_type": "code",
   "execution_count": 23,
   "metadata": {},
   "outputs": [
    {
     "name": "stdout",
     "output_type": "stream",
     "text": [
      "-0.9999999852953906\n",
      "     fun: 0.0\n",
      "    nfev: 9\n",
      "     nit: 4\n",
      " success: True\n",
      "       x: -1.0000000000000002\n",
      "     fun: 7.916666666666666\n",
      "    nfev: 44\n",
      "     nit: 38\n",
      " success: True\n",
      "       x: -0.8333333333333334\n"
     ]
    }
   ],
   "source": [
    "from scipy.optimize import newton\n",
    "from scipy.optimize import minimize_scalar\n",
    "\n",
    "def myFunction(x):\n",
    "    return (x**2 + 2*x + 1)\n",
    "\n",
    "# ニュートン法\n",
    "# See https://qiita.com/PlanetMeron/items/09d7eb204868e1a49f49\n",
    "print(newton(myFunction, 0))\n",
    "\n",
    "# 最小値\n",
    "print(minimize_scalar(myFunction, method = 'Brent'))\n",
    "def customFunc(x):\n",
    "    return (3*x**2 + 5*x + 10)\n",
    "\n",
    "print(minimize_scalar(customFunc, method = 'Golden'))"
   ]
  },
  {
   "cell_type": "code",
   "execution_count": 26,
   "metadata": {},
   "outputs": [
    {
     "name": "stdout",
     "output_type": "stream",
     "text": [
      "-12.000000000000002\n"
     ]
    }
   ],
   "source": [
    "# 練習問題2-4\n",
    "\n",
    "import numpy as np\n",
    "import scipy.linalg as linalg\n",
    "\n",
    "matrix = np.array([[1,2,3],[1,3,2],[3,1,2]])\n",
    "print(linalg.det(matrix))"
   ]
  },
  {
   "cell_type": "code",
   "execution_count": 30,
   "metadata": {},
   "outputs": [
    {
     "name": "stdout",
     "output_type": "stream",
     "text": [
      "[[-0.33333333  0.08333333  0.41666667]\n",
      " [-0.33333333  0.58333333 -0.08333333]\n",
      " [ 0.66666667 -0.41666667 -0.08333333]]\n",
      "[ 6.        +0.j -1.41421356+0.j  1.41421356+0.j]\n",
      "[[-0.57735027 -0.72236645  0.16041816]\n",
      " [-0.57735027 -0.14290228 -0.81090869]\n",
      " [-0.57735027  0.67658381  0.56275492]]\n"
     ]
    }
   ],
   "source": [
    "# 練習問題2-5\n",
    "# 2-4の逆行列・固有値・固有ベクトルを求める\n",
    "\n",
    "import numpy as np\n",
    "import scipy.linalg as linalg\n",
    "\n",
    "matrix = np.array([[1,2,3],[1,3,2],[3,1,2]])\n",
    "print(linalg.inv(matrix))\n",
    "eig_value, eig_vector = linalg.eig(matrix)\n",
    "print(eig_value)\n",
    "print(eig_vector)\n"
   ]
  },
  {
   "cell_type": "code",
   "execution_count": 36,
   "metadata": {},
   "outputs": [
    {
     "name": "stdout",
     "output_type": "stream",
     "text": [
      "-0.45339765151640365\n",
      "3.3306690738754696e-16\n"
     ]
    }
   ],
   "source": [
    "# 練習問題2-6\n",
    "\n",
    "from scipy.optimize import newton\n",
    "\n",
    "def myFunc(x):\n",
    "    return (x**3 + 2*x + 1)\n",
    "\n",
    "print(newton(myFunc, 0))\n",
    "print(myFunc(newton(myFunc, 0)))"
   ]
  }
 ],
 "metadata": {
  "kernelspec": {
   "display_name": "Python 3",
   "language": "python",
   "name": "python3"
  },
  "language_info": {
   "codemirror_mode": {
    "name": "ipython",
    "version": 3
   },
   "file_extension": ".py",
   "mimetype": "text/x-python",
   "name": "python",
   "nbconvert_exporter": "python",
   "pygments_lexer": "ipython3",
   "version": "3.7.3"
  }
 },
 "nbformat": 4,
 "nbformat_minor": 2
}
