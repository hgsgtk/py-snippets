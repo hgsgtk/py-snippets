{
 "cells": [
  {
   "cell_type": "code",
   "execution_count": 1,
   "metadata": {},
   "outputs": [],
   "source": [
    "import numpy as np\n",
    "import scipy as ap\n",
    "import pandas as pd\n",
    "from pandas import Series, DataFrame\n",
    "\n",
    "import matplotlib.pyplot as plt\n",
    "import matplotlib as mpl\n",
    "import seaborn as sns\n",
    "%matplotlib inline\n",
    "\n",
    "%precision 3\n",
    "\n",
    "np.random.seed(0)"
   ]
  },
  {
   "cell_type": "code",
   "execution_count": 2,
   "metadata": {},
   "outputs": [
    {
     "name": "stdout",
     "output_type": "stream",
     "text": [
      "施行:  [5]\n"
     ]
    }
   ],
   "source": [
    "# 数学的確率\n",
    "dice_data = np.array([1,2,3,4,5,6])\n",
    "# 施行: 一つだけランダムに抽出する\n",
    "print('施行: ', np.random.choice(dice_data, 1))\n",
    "\n",
    "# words\n",
    "# 施行結果 = 根元事象（基本事象） ex. 5\n",
    "# すべての可能な根元事象を集めた集合 = 標本空間 ex. [1,2,3,4,5,6]\n",
    "# 任意の部分集合 = 事象 ex. [3,4]\n",
    "\n",
    "# 確率の公理（=仮定）\n",
    "# 任意の事象 E の発生確率 = P(E) の場合、\n",
    "# 1. 0 <= E <= 1を満たす\n",
    "# 2. P(S) = 1 (S: 標本空間 全事象の確率)\n",
    "# 3. ドモルガンの法則\n",
    "# 空事象 = 要素を全く持たない集合\n",
    "# 余事象 = 事象Eに属さない集合 ex. E=[1,2,3]の場合[4,5,6]\n",
    "# 積事象 = 2つの事象に共通な事象\n",
    "# ex. [1,2,3] & [3,4] = [3]\n",
    "# 和事象 = 2つの事象の和\n",
    "# ex. [1,2] & [4,5] = [1,2,4,5]"
   ]
  },
  {
   "cell_type": "code",
   "execution_count": 3,
   "metadata": {},
   "outputs": [
    {
     "name": "stdout",
     "output_type": "stream",
     "text": [
      "1 が出る確率 0.171\n",
      "2 が出る確率 0.158\n",
      "3 が出る確率 0.157\n",
      "4 が出る確率 0.183\n",
      "5 が出る確率 0.16\n",
      "6 が出る確率 0.171\n"
     ]
    }
   ],
   "source": [
    "# 統計的確率\n",
    "# サイコロを1000回振る 根本事象が1/6で起きるのかどうか\n",
    "calc_steps = 1000\n",
    "dice_rolls = np.random.choice(dice_data, calc_steps)\n",
    "for i in range(1,7):\n",
    "    p = len(dice_rolls[dice_rolls==i]) / calc_steps\n",
    "    print(i, 'が出る確率', p)"
   ]
  },
  {
   "cell_type": "markdown",
   "metadata": {},
   "source": [
    "**条件付き確率**\n",
    "\n",
    "- ex. 事象Aが生じた条件のもとで事象Bが生じる確率\n",
    "    - = Aが与えられたもとでのBの条件付き確率\n",
    "- 背景情報に基づいた確率と考えることが出来る\n",
    "\n",
    "**独立性**\n",
    "\n",
    "- 事象Aと事象Bが独立である = 条件付き確率とそれぞれの確率がおなじになる\n",
    "- 事象Bが事象Aに影響を及ぼさない\n",
    "- 成立しない場合、事象A・Bはお互いに従属する"
   ]
  },
  {
   "cell_type": "markdown",
   "metadata": {},
   "source": [
    "**ベイズの定理**\n",
    "- Aという結果がわかっているときに、その原因がB事象である確率を求める\n",
    "\n",
    "```\n",
    "P(B) 事象Aが起きる前の事象Bの確率 = 事前確率\n",
    "P(B|A) 事象Aが起きたあとの事象Bの確率 = 事後確率\n",
    "P(A|B) Aが観測されたときにBが原因であるだろう確率 = 尤度\n",
    "迷惑メールの判定など実務の様々な部分で使用される\n",
    "```"
   ]
  },
  {
   "cell_type": "code",
   "execution_count": 4,
   "metadata": {},
   "outputs": [
    {
     "name": "stdout",
     "output_type": "stream",
     "text": [
      "0 が出る確率 0.488\n",
      "1 が出る確率 0.512\n"
     ]
    }
   ],
   "source": [
    "# 練習問題4-1\n",
    "coin_data = np.array([0,1])\n",
    "steps = 1000\n",
    "tos_rolls = np.random.choice(coin_data, steps)\n",
    "for i in [0,1]:\n",
    "    print(i , 'が出る確率', len(tos_rolls[tos_rolls==i]) / steps)"
   ]
  },
  {
   "cell_type": "code",
   "execution_count": 5,
   "metadata": {},
   "outputs": [],
   "source": [
    "# 練習問題4-2\n",
    "# くじ引き\n",
    "# 1000本のくじに100本のあたり\n",
    "# Aくん・Bくんがともにあたりを引く確率\n",
    "# 乗法定理"
   ]
  },
  {
   "cell_type": "markdown",
   "metadata": {},
   "source": [
    "# 4-3 確率変数と確率分布\n",
    "* 確率変数 = とりる値にたいして確率が割り当てられる変数\n",
    "* サイコロ 1-6までの目 出現確率は等しく1/6が割り当てられる\n",
    "* ある変数が確率的に値を取る場合、確率変数\n",
    "* そして、確率変数が取りうる値を実現値と呼ぶ ex. 1,2,3,4,5,6\n",
    "* 離散確率変数 = 実現値が数え上げられる、そうではないのは連続確率変数\n",
    "\n",
    "## 分布関数\n",
    "* 分布関数 = 累積確率分布関数\n",
    "* 確率変数 X が実数x以下になる\n",
    "* 連続確率変数の場合、分布関数の導関数を密度関数 = 確率密度関数と呼ぶ\n",
    "\n",
    "## 期待値（平均）\n",
    "* サイコロの場合、1 * 1/6 + 2 * 1/6 ..."
   ]
  },
  {
   "cell_type": "code",
   "execution_count": 9,
   "metadata": {},
   "outputs": [
    {
     "data": {
      "image/png": "[encoded data removed]",
      "text/plain": [
       "<Figure size 432x288 with 1 Axes>"
      ]
     },
     "metadata": {
      "needs_background": "light"
     },
     "output_type": "display_data"
    }
   ],
   "source": [
    "# 一様分布\n",
    "# サイコロのように、すべての事象が起こる確率が等しいもの\n",
    "calc_steps = 1000\n",
    "# 1000回実施\n",
    "dice_rolles = np.random.choice(dice_data, calc_steps)\n",
    "prob_data = np.array([])\n",
    "for i in range(1, 7):\n",
    "    p = len(dice_rolls[dice_rolls == i]) / calc_steps\n",
    "    prob_data = np.append(prob_data, p)\n",
    "\n",
    "plt.bar(dice_data, prob_data)\n",
    "plt.grid(True)"
   ]
  },
  {
   "cell_type": "code",
   "execution_count": 17,
   "metadata": {},
   "outputs": [
    {
     "name": "stdout",
     "output_type": "stream",
     "text": [
      "0 が出る確率 0.625\n",
      "1 が出る確率 0.375\n"
     ]
    },
    {
     "data": {
      "image/png": "[encoded data removed]",
      "text/plain": [
       "<Figure size 432x288 with 1 Axes>"
      ]
     },
     "metadata": {
      "needs_background": "light"
     },
     "output_type": "display_data"
    }
   ],
   "source": [
    "# ベルヌーイ分布\n",
    "# 結果が２種類しかない思考をベルヌーイ試行\n",
    "# 一回のベルヌーイ試行において、各事象が生じる確率\n",
    "# 0: head(表)、1: tail（裏）\n",
    "prob_be_data = np.array([])\n",
    "coin_data = np.array([0,0,0,0,0,1,1,1])\n",
    "\n",
    "for i in np.unique(coin_data):\n",
    "    p = len(coin_data[coin_data==i]) / len(coin_data)\n",
    "    print(i, 'が出る確率', p)\n",
    "    prob_be_data = np.append(prob_be_data, p)\n",
    "\n",
    "plt.bar([0,1], prob_be_data, align='center')\n",
    "plt.xticks([0,1], ['head', 'tail'])\n",
    "plt.grid(True)"
   ]
  },
  {
   "cell_type": "code",
   "execution_count": 19,
   "metadata": {},
   "outputs": [
    {
     "data": {
      "image/png": "[encoded data removed]",
      "text/plain": [
       "<Figure size 432x288 with 1 Axes>"
      ]
     },
     "metadata": {
      "needs_background": "light"
     },
     "output_type": "display_data"
    }
   ],
   "source": [
    "# 二項分布\n",
    "# 独立なベルヌーイ施行をn回繰り返す\n",
    "np.random.seed(0)\n",
    "# 試行回数30 確率0.5 サンプル数\n",
    "x = np.random.binomial(30, 0.5, 1000)\n",
    "plt.hist(x)\n",
    "plt.grid(True)"
   ]
  },
  {
   "cell_type": "code",
   "execution_count": 21,
   "metadata": {},
   "outputs": [
    {
     "data": {
      "image/png": "[encoded data removed]",
      "text/plain": [
       "<Figure size 432x288 with 1 Axes>"
      ]
     },
     "metadata": {
      "needs_background": "light"
     },
     "output_type": "display_data"
    }
   ],
   "source": [
    "# ポアソン分布\n",
    "# まれな事象が起きる確率\n",
    "# ex. 単位面積あたりの雨粒の数、１平米あたりに生えている木の数\n",
    "x = np.random.poisson(7, 1000)\n",
    "plt.hist(x)\n",
    "plt.grid(True)"
   ]
  },
  {
   "cell_type": "code",
   "execution_count": 23,
   "metadata": {},
   "outputs": [
    {
     "data": {
      "image/png": "[encoded data removed]",
      "text/plain": [
       "<Figure size 432x288 with 1 Axes>"
      ]
     },
     "metadata": {
      "needs_background": "light"
     },
     "output_type": "display_data"
    }
   ],
   "source": [
    "# 正規分布・対数正規分布\n",
    "# 正規分布 = ガウス分布　代表的な連続型の確率分布\n",
    "# 対数正規分布 log xが正規分布に従うときの分布\n",
    "x = np.random.normal(5, 10, 10000)\n",
    "plt.hist(x)\n",
    "plt.grid(True)"
   ]
  },
  {
   "cell_type": "code",
   "execution_count": 25,
   "metadata": {},
   "outputs": [
    {
     "data": {
      "image/png": "[encoded data removed]",
      "text/plain": [
       "<Figure size 432x288 with 1 Axes>"
      ]
     },
     "metadata": {
      "needs_background": "light"
     },
     "output_type": "display_data"
    }
   ],
   "source": [
    "# 対数正規分布\n",
    "x = np.random.lognormal(30, 0.4, 1000)\n",
    "plt.hist(x)\n",
    "plt.grid(True)"
   ]
  },
  {
   "cell_type": "code",
   "execution_count": 29,
   "metadata": {},
   "outputs": [
    {
     "data": {
      "image/png": "[encoded data removed]",
      "text/plain": [
       "<Figure size 432x288 with 1 Axes>"
      ]
     },
     "metadata": {
      "needs_background": "light"
     },
     "output_type": "display_data"
    }
   ],
   "source": [
    "# カーネル密度関数\n",
    "# 与えられたdataを使って、密度関数を推定する\n",
    "\n",
    "import requests\n",
    "import zipfile\n",
    "from io import StringIO\n",
    "import io\n",
    "\n",
    "zip_file_url = 'http://archive.ics.uci.edu/ml/machine-learning-databases/00356/student.zip'\n",
    "\n",
    "r = requests.get(zip_file_url, stream=True)\n",
    "z = zipfile.ZipFile(io.BytesIO(r.content))\n",
    "z.extractall()\n",
    "\n",
    "student_data_math = pd.read_csv('student-mat.csv', sep=';')\n",
    "\n",
    "student_data_math.absences.plot(kind='kde', style='k--')\n",
    "student_data_math.absences.hist(density=True)\n",
    "plt.grid(True)"
   ]
  },
  {
   "cell_type": "code",
   "execution_count": 35,
   "metadata": {},
   "outputs": [
    {
     "data": {
      "image/png": "[encoded data removed]",
      "text/plain": [
       "<Figure size 432x288 with 1 Axes>"
      ]
     },
     "metadata": {
      "needs_background": "light"
     },
     "output_type": "display_data"
    }
   ],
   "source": [
    "# 練習問題4-4\n",
    "# 平均0 分散1 の正規分布からn=100の標本抽出を10,000回繰り返し、標本分布を描いて\n",
    "# 残念！\n",
    "# x = np.random.normal(0, 1, 10000)\n",
    "# plt.hist(x)\n",
    "# plt.grid(True)\n",
    "\n",
    "N = 10000\n",
    "normal_sample_data = [np.random.normal(0, 1, 100).mean() for _ in range(N)]\n",
    "\n",
    "plt.hist(normal_sample_data)\n",
    "plt.grid(True)"
   ]
  },
  {
   "cell_type": "code",
   "execution_count": 37,
   "metadata": {},
   "outputs": [
    {
     "data": {
      "image/png": "[encoded data removed]",
      "text/plain": [
       "<Figure size 432x288 with 1 Axes>"
      ]
     },
     "metadata": {
      "needs_background": "light"
     },
     "output_type": "display_data"
    }
   ],
   "source": [
    "# 4-2 対数正規分布\n",
    "# 残念！\n",
    "# x = np.random.lognormal(0, 1, 10000)\n",
    "# plt.hist(x)\n",
    "# plt.grid(True)\n",
    "N = 10000\n",
    "normal_sample_data = [np.random.lognormal(0, 1, 100).mean() for _ in range(N)]\n",
    "\n",
    "plt.hist(normal_sample_data)\n",
    "plt.grid(True)"
   ]
  },
  {
   "cell_type": "code",
   "execution_count": 34,
   "metadata": {},
   "outputs": [
    {
     "data": {
      "image/png": "[encoded data removed]",
      "text/plain": [
       "<Figure size 432x288 with 1 Axes>"
      ]
     },
     "metadata": {
      "needs_background": "light"
     },
     "output_type": "display_data"
    }
   ],
   "source": [
    "# 4-3 一期目の成績G1のヒストグラム・カーネル密度推定\n",
    "student_data_math.G1.plot(kind='kde', style='k--')\n",
    "student_data_math.G1.hist(density=True)\n",
    "plt.grid(True)"
   ]
  }
 ],
 "metadata": {
  "kernelspec": {
   "display_name": "Python 3",
   "language": "python",
   "name": "python3"
  },
  "language_info": {
   "codemirror_mode": {
    "name": "ipython",
    "version": 3
   },
   "file_extension": ".py",
   "mimetype": "text/x-python",
   "name": "python",
   "nbconvert_exporter": "python",
   "pygments_lexer": "ipython3",
   "version": "3.7.3"
  }
 },
 "nbformat": 4,
 "nbformat_minor": 2
}
