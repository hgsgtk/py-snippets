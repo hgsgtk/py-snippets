{
 "cells": [
  {
   "cell_type": "code",
   "execution_count": 2,
   "metadata": {},
   "outputs": [],
   "source": [
    "import numpy as np\n",
    "import scipy as ap\n",
    "import pandas as pd\n",
    "from pandas import Series, DataFrame\n",
    "\n",
    "import matplotlib.pyplot as plt\n",
    "import matplotlib as mpl\n",
    "import seaborn as sns\n",
    "%matplotlib inline\n",
    "\n",
    "%precision 3\n",
    "\n",
    "np.random.seed(0)"
   ]
  },
  {
   "cell_type": "code",
   "execution_count": 3,
   "metadata": {},
   "outputs": [
    {
     "name": "stdout",
     "output_type": "stream",
     "text": [
      "施行:  [5]\n"
     ]
    }
   ],
   "source": [
    "# 数学的確率\n",
    "dice_data = np.array([1,2,3,4,5,6])\n",
    "# 施行: 一つだけランダムに抽出する\n",
    "print('施行: ', np.random.choice(dice_data, 1))\n",
    "\n",
    "# words\n",
    "# 施行結果 = 根元事象（基本事象） ex. 5\n",
    "# すべての可能な根元事象を集めた集合 = 標本空間 ex. [1,2,3,4,5,6]\n",
    "# 任意の部分集合 = 事象 ex. [3,4]\n",
    "\n",
    "# 確率の公理（=仮定）\n",
    "# 任意の事象 E の発生確率 = P(E) の場合、\n",
    "# 1. 0 <= E <= 1を満たす\n",
    "# 2. P(S) = 1 (S: 標本空間 全事象の確率)\n",
    "# 3. ドモルガンの法則\n",
    "# 空事象 = 要素を全く持たない集合\n",
    "# 余事象 = 事象Eに属さない集合 ex. E=[1,2,3]の場合[4,5,6]\n",
    "# 積事象 = 2つの事象に共通な事象\n",
    "# ex. [1,2,3] & [3,4] = [3]\n",
    "# 和事象 = 2つの事象の和\n",
    "# ex. [1,2] & [4,5] = [1,2,4,5]"
   ]
  },
  {
   "cell_type": "code",
   "execution_count": 4,
   "metadata": {},
   "outputs": [
    {
     "name": "stdout",
     "output_type": "stream",
     "text": [
      "1 が出る確率 0.171\n",
      "2 が出る確率 0.158\n",
      "3 が出る確率 0.157\n",
      "4 が出る確率 0.183\n",
      "5 が出る確率 0.16\n",
      "6 が出る確率 0.171\n"
     ]
    }
   ],
   "source": [
    "# 統計的確率\n",
    "# サイコロを1000回振る 根本事象が1/6で起きるのかどうか\n",
    "calc_steps = 1000\n",
    "dice_rolls = np.random.choice(dice_data, calc_steps)\n",
    "for i in range(1,7):\n",
    "    p = len(dice_rolls[dice_rolls==i]) / calc_steps\n",
    "    print(i, 'が出る確率', p)"
   ]
  },
  {
   "cell_type": "markdown",
   "metadata": {},
   "source": [
    "**条件付き確率**\n",
    "\n",
    "- ex. 事象Aが生じた条件のもとで事象Bが生じる確率\n",
    "    - = Aが与えられたもとでのBの条件付き確率\n",
    "- 背景情報に基づいた確率と考えることが出来る\n",
    "\n",
    "**独立性**\n",
    "\n",
    "- 事象Aと事象Bが独立である = 条件付き確率とそれぞれの確率がおなじになる\n",
    "- 事象Bが事象Aに影響を及ぼさない\n",
    "- 成立しない場合、事象A・Bはお互いに従属する"
   ]
  },
  {
   "cell_type": "markdown",
   "metadata": {},
   "source": [
    "**ベイズの定理**\n",
    "- Aという結果がわかっているときに、その原因がB事象である確率を求める\n",
    "\n",
    "```\n",
    "P(B) 事象Aが起きる前の事象Bの確率 = 事前確率\n",
    "P(B|A) 事象Aが起きたあとの事象Bの確率 = 事後確率\n",
    "P(A|B) Aが観測されたときにBが原因であるだろう確率 = 尤度\n",
    "迷惑メールの判定など実務の様々な部分で使用される\n",
    "```"
   ]
  },
  {
   "cell_type": "code",
   "execution_count": 5,
   "metadata": {},
   "outputs": [
    {
     "name": "stdout",
     "output_type": "stream",
     "text": [
      "0 が出る確率 0.488\n",
      "1 が出る確率 0.512\n"
     ]
    }
   ],
   "source": [
    "# 練習問題4-1\n",
    "coin_data = np.array([0,1])\n",
    "steps = 1000\n",
    "tos_rolls = np.random.choice(coin_data, steps)\n",
    "for i in [0,1]:\n",
    "    print(i , 'が出る確率', len(tos_rolls[tos_rolls==i]) / steps)"
   ]
  },
  {
   "cell_type": "code",
   "execution_count": null,
   "metadata": {},
   "outputs": [],
   "source": [
    "# 練習問題4-2\n",
    "# くじ引き\n",
    "# 1000本のくじに100本のあたり\n",
    "# Aくん・Bくんがともにあたりを引く確率\n",
    "# 乗法定理"
   ]
  }
 ],
 "metadata": {
  "kernelspec": {
   "display_name": "Python 3",
   "language": "python",
   "name": "python3"
  },
  "language_info": {
   "codemirror_mode": {
    "name": "ipython",
    "version": 3
   },
   "file_extension": ".py",
   "mimetype": "text/x-python",
   "name": "python",
   "nbconvert_exporter": "python",
   "pygments_lexer": "ipython3",
   "version": "3.7.3"
  }
 },
 "nbformat": 4,
 "nbformat_minor": 2
}
