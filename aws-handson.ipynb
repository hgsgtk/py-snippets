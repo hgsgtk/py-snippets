{
 "cells": [
  {
   "cell_type": "code",
   "execution_count": 1,
   "id": "adjusted-electron",
   "metadata": {},
   "outputs": [],
   "source": [
    "from sklearn.datasets import fetch_openml\n",
    "X, y = fetch_openml('mnist_784', as_frame=False, return_X_y=True)"
   ]
  },
  {
   "cell_type": "code",
   "execution_count": 2,
   "id": "clean-suite",
   "metadata": {},
   "outputs": [
    {
     "data": {
      "text/plain": [
       "array([[0., 0., 0., ..., 0., 0., 0.],\n",
       "       [0., 0., 0., ..., 0., 0., 0.],\n",
       "       [0., 0., 0., ..., 0., 0., 0.],\n",
       "       ...,\n",
       "       [0., 0., 0., ..., 0., 0., 0.],\n",
       "       [0., 0., 0., ..., 0., 0., 0.],\n",
       "       [0., 0., 0., ..., 0., 0., 0.]])"
      ]
     },
     "execution_count": 2,
     "metadata": {},
     "output_type": "execute_result"
    }
   ],
   "source": [
    "X"
   ]
  },
  {
   "cell_type": "code",
   "execution_count": 3,
   "id": "national-transition",
   "metadata": {},
   "outputs": [
    {
     "data": {
      "text/plain": [
       "array(['5', '0', '4', ..., '4', '5', '6'], dtype=object)"
      ]
     },
     "execution_count": 3,
     "metadata": {},
     "output_type": "execute_result"
    }
   ],
   "source": [
    "y"
   ]
  },
  {
   "cell_type": "code",
   "execution_count": 4,
   "id": "contemporary-retention",
   "metadata": {},
   "outputs": [
    {
     "data": {
      "text/plain": [
       "(70000, 784)"
      ]
     },
     "execution_count": 4,
     "metadata": {},
     "output_type": "execute_result"
    }
   ],
   "source": [
    "X.shape\n",
    "# (70000, 784)  画像枚数, ラベル数"
   ]
  },
  {
   "cell_type": "code",
   "execution_count": 5,
   "id": "following-dodge",
   "metadata": {},
   "outputs": [],
   "source": [
    "%matplotlib inline"
   ]
  },
  {
   "cell_type": "code",
   "execution_count": 6,
   "id": "arbitrary-antigua",
   "metadata": {},
   "outputs": [],
   "source": [
    "import matplotlib.pyplot as plt"
   ]
  },
  {
   "cell_type": "code",
   "execution_count": 7,
   "id": "bearing-chrome",
   "metadata": {},
   "outputs": [
    {
     "data": {
      "text/plain": [
       "<matplotlib.image.AxesImage at 0x7fef52c605c0>"
      ]
     },
     "execution_count": 7,
     "metadata": {},
     "output_type": "execute_result"
    },
    {
     "data": {
      "image/png": "[encoded data removed]",
      "text/plain": [
       "<Figure size 432x288 with 1 Axes>"
      ]
     },
     "metadata": {
      "needs_background": "light"
     },
     "output_type": "display_data"
    }
   ],
   "source": [
    "plt.imshow(X[0].reshape(28,28), cmap=plt.cm.gray_r)"
   ]
  },
  {
   "cell_type": "code",
   "execution_count": 8,
   "id": "greenhouse-cartoon",
   "metadata": {},
   "outputs": [],
   "source": [
    "# 学習データとテストデータに分ける\n",
    "X_train = X[0:60000,0:784]\n",
    "X_test = X[60000:70000,0:784]\n",
    "y_train = y[0:60000]\n",
    "y_test = y[60000:70000]"
   ]
  },
  {
   "cell_type": "code",
   "execution_count": 9,
   "id": "linear-philip",
   "metadata": {},
   "outputs": [
    {
     "data": {
      "text/plain": [
       "(60000, 784)"
      ]
     },
     "execution_count": 9,
     "metadata": {},
     "output_type": "execute_result"
    }
   ],
   "source": [
    "X_train.shape"
   ]
  },
  {
   "cell_type": "code",
   "execution_count": 12,
   "id": "secret-clearance",
   "metadata": {},
   "outputs": [
    {
     "name": "stdout",
     "output_type": "stream",
     "text": [
      "[0]\n",
      "[[0.66666667 0.33333333]]\n"
     ]
    }
   ],
   "source": [
    "# k-近傍法 (k-nearest neighbor) とは\n",
    "# http://educationhub-e33695c0-835b-11eb-8e80-138dce1c124f.s3-website-us-east-1.amazonaws.com/chapter4/content1.html\n",
    "\n",
    "# k-近傍法は、分類したいデータに似ている既存のデータをk個見て、そのk個のなかで最も多いラベルを多数決的に採用する方法です。似ている似ていないの判断基準が必要ですが、単純なものとしてはデータ間のユークリッド距離を使います。既存のデータが多い場合、最も近いk個を選ぶのに探索が必要で、データ分類に時間がかかります。\n",
    "# わからん！\n",
    "# にているかどうかの数値化は完全におまかせする、強いて言うならユークリッド数とかがあるらしい\n",
    "# 精度面・パフォーマンス面では弱い、なるほど\n",
    "\n",
    "X = [[0], [1], [2], [3]]\n",
    "y = [0, 0, 1, 1]\n",
    "from sklearn.neighbors import KNeighborsClassifier # k-近傍法\n",
    "neigh = KNeighborsClassifier(n_neighbors=3) # 近い3個のデータでラベルを判断する\n",
    "neigh.fit(X, y) # 与えられたデータに対して学習 近いデータを探してラベルを決めるモデル\n",
    "print(neigh.predict([[1.1]])) # 未知データを推定\n",
    "print(neigh.predict_proba([[0.9]]))\n",
    "\n",
    "\n",
    "# わからなかったこと\n",
    "# X のなかで、0.9 に近い3つの数字はどれでしょう。そのうち、0のラベルと1のラベルは何個含まれているでしょうか。\n",
    "# k=3 に含まれるラベルの数の割合と、確率の関係はどういう関係でしょうか。"
   ]
  },
  {
   "cell_type": "code",
   "execution_count": 15,
   "id": "indian-exposure",
   "metadata": {},
   "outputs": [
    {
     "name": "stdout",
     "output_type": "stream",
     "text": [
      "['7']\n",
      "[[0. 0. 0. 0. 0. 0. 0. 1. 0. 0.]]\n"
     ]
    }
   ],
   "source": [
    "X = X_train\n",
    "y = y_train\n",
    "from sklearn.neighbors import KNeighborsClassifier # k-近傍法\n",
    "neigh = KNeighborsClassifier(n_neighbors=3) # 近い3個のデータでラベルを判断する\n",
    "neigh.fit(X, y) # 与えられたデータに対して学習 近いデータを探してラベルを決めるモデル\n",
    "print(neigh.predict([X_test[0]])) # 未知データを推定\n",
    "print(neigh.predict_proba([X_test[0]]))\n"
   ]
  },
  {
   "cell_type": "code",
   "execution_count": 17,
   "id": "daily-breakdown",
   "metadata": {},
   "outputs": [
    {
     "name": "stdout",
     "output_type": "stream",
     "text": [
      "7\n"
     ]
    }
   ],
   "source": [
    "print(y_test[0]) # 7だからあってる"
   ]
  },
  {
   "cell_type": "code",
   "execution_count": 18,
   "id": "jewish-ethiopia",
   "metadata": {},
   "outputs": [
    {
     "name": "stdout",
     "output_type": "stream",
     "text": [
      "CPU times: user 611 ms, sys: 72.2 ms, total: 684 ms\n",
      "Wall time: 398 ms\n"
     ]
    },
    {
     "data": {
      "text/plain": [
       "array(['7', '2', '1', '0', '4', '1', '4', '9', '5', '9', '0', '6', '9',\n",
       "       '0', '1', '5', '9', '7', '3', '4', '9', '6', '6', '5', '4', '0',\n",
       "       '7', '4', '0', '1', '3', '1', '3', '4', '7', '2', '7', '1', '2',\n",
       "       '1', '1', '7', '4', '2', '3', '5', '1', '2', '4', '4', '6', '3',\n",
       "       '5', '5', '6', '0', '4', '1', '9', '5', '7', '8', '9', '3', '7',\n",
       "       '9', '6', '4', '3', '0', '7', '0', '2', '9', '1', '7', '3', '2',\n",
       "       '9', '7', '7', '6', '2', '7', '8', '4', '7', '3', '6', '1', '3',\n",
       "       '6', '9', '3', '1', '4', '1', '7', '6', '9'], dtype=object)"
      ]
     },
     "execution_count": 18,
     "metadata": {},
     "output_type": "execute_result"
    }
   ],
   "source": [
    "%%time\n",
    "neigh.predict(X_test[0:100])"
   ]
  },
  {
   "cell_type": "code",
   "execution_count": 19,
   "id": "prescription-inclusion",
   "metadata": {},
   "outputs": [],
   "source": [
    "# [March 17, 2021, 2:28 PM] ‹30›: どうしてXは大文字で、yは小文字なのでしょうか？\n",
    "# Xはベクトル、yは横軸"
   ]
  },
  {
   "cell_type": "code",
   "execution_count": 21,
   "id": "underlying-leeds",
   "metadata": {},
   "outputs": [
    {
     "name": "stdout",
     "output_type": "stream",
     "text": [
      "[1]\n",
      "[[0. 1.]]\n"
     ]
    }
   ],
   "source": [
    "# 決定木とは\n",
    "# 重さが5kg以下かどうか」「飛ぶことができるか」のようなルールでデータを振り分けていく\n",
    "# 決定木は解釈可能なモデル\n",
    "\n",
    "from sklearn import tree\n",
    "X = [[0, 0], [1, 1]]\n",
    "y = [0, 1]\n",
    "clf = tree.DecisionTreeClassifier() # 決定木分類 DecisionTreeClassifier\n",
    "clf = clf.fit(X, y) # fit を呼び出すと与えられたデータに対して学習\n",
    "print(clf.predict([[2., 2.]])) # ラベルを推定する関数は predict \n",
    "print(clf.predict_proba([[2., 2.]])) # predict_proba はラベルごとに推定の確率"
   ]
  },
  {
   "cell_type": "code",
   "execution_count": 22,
   "id": "necessary-marker",
   "metadata": {},
   "outputs": [
    {
     "name": "stdout",
     "output_type": "stream",
     "text": [
      "['7']\n",
      "[[0. 0. 0. 0. 0. 0. 0. 1. 0. 0.]]\n"
     ]
    }
   ],
   "source": [
    "from sklearn import tree\n",
    "X = X_train\n",
    "y = y_train\n",
    "clf = tree.DecisionTreeClassifier() # 決定木分類 DecisionTreeClassifier\n",
    "clf = clf.fit(X, y) # fit を呼び出すと与えられたデータに対して学習\n",
    "print(clf.predict([X_test[0]])) # ラベルを推定する関数は predict \n",
    "print(clf.predict_proba([X_test[0]])) # predict_proba はラベルごとに推定の確率"
   ]
  },
  {
   "cell_type": "code",
   "execution_count": 23,
   "id": "curious-token",
   "metadata": {},
   "outputs": [
    {
     "name": "stdout",
     "output_type": "stream",
     "text": [
      "CPU times: user 629 ms, sys: 60 ms, total: 689 ms\n",
      "Wall time: 399 ms\n"
     ]
    },
    {
     "data": {
      "text/plain": [
       "array(['7', '2', '1', '0', '4', '1', '4', '9', '5', '9', '0', '6', '9',\n",
       "       '0', '1', '5', '9', '7', '3', '4', '9', '6', '6', '5', '4', '0',\n",
       "       '7', '4', '0', '1', '3', '1', '3', '4', '7', '2', '7', '1', '2',\n",
       "       '1', '1', '7', '4', '2', '3', '5', '1', '2', '4', '4', '6', '3',\n",
       "       '5', '5', '6', '0', '4', '1', '9', '5', '7', '8', '9', '3', '7',\n",
       "       '9', '6', '4', '3', '0', '7', '0', '2', '9', '1', '7', '3', '2',\n",
       "       '9', '7', '7', '6', '2', '7', '8', '4', '7', '3', '6', '1', '3',\n",
       "       '6', '9', '3', '1', '4', '1', '7', '6', '9'], dtype=object)"
      ]
     },
     "execution_count": 23,
     "metadata": {},
     "output_type": "execute_result"
    }
   ],
   "source": [
    "#  100枚の画像に対する予測の時間を調べてみましょう。\n",
    "\n",
    "\n",
    "%%time\n",
    "neigh.predict(X_test[0:100])"
   ]
  },
  {
   "cell_type": "code",
   "execution_count": 24,
   "id": "medical-coupon",
   "metadata": {},
   "outputs": [],
   "source": [
    "y_predict = clf.predict(X_test)"
   ]
  },
  {
   "cell_type": "code",
   "execution_count": 26,
   "id": "disturbed-machinery",
   "metadata": {},
   "outputs": [
    {
     "data": {
      "text/plain": [
       "0.8777"
      ]
     },
     "execution_count": 26,
     "metadata": {},
     "output_type": "execute_result"
    }
   ],
   "source": [
    "from sklearn.metrics import accuracy_score\n",
    "accuracy_score(y_test, y_predict) # 精度を計算"
   ]
  },
  {
   "cell_type": "code",
   "execution_count": 27,
   "id": "accredited-treatment",
   "metadata": {},
   "outputs": [
    {
     "data": {
      "text/plain": [
       "array([[ 915,    0,   10,    8,    4,   14,   14,    3,    7,    5],\n",
       "       [   0, 1092,   11,    4,    1,    6,    6,    4,    9,    2],\n",
       "       [  14,    6,  891,   31,   13,   10,   11,   25,   21,   10],\n",
       "       [   9,    8,   26,  862,    9,   43,    2,    8,   21,   22],\n",
       "       [   9,    5,    7,    6,  856,    9,   14,   12,   16,   48],\n",
       "       [  13,    8,    1,   43,    8,  739,   27,    7,   26,   20],\n",
       "       [  18,    3,   12,    9,   16,   16,  855,    3,   23,    3],\n",
       "       [   2,   11,   25,   18,   10,    4,    0,  927,    8,   23],\n",
       "       [  14,    4,   29,   40,   26,   24,   15,   11,  780,   31],\n",
       "       [  15,    4,    9,   21,   37,   13,    7,   23,   20,  860]])"
      ]
     },
     "execution_count": 27,
     "metadata": {},
     "output_type": "execute_result"
    }
   ],
   "source": [
    "from sklearn.metrics import confusion_matrix\n",
    "confusion_matrix(y_test, y_predict) # 混合行列"
   ]
  },
  {
   "cell_type": "code",
   "execution_count": 30,
   "id": "neural-highland",
   "metadata": {},
   "outputs": [
    {
     "name": "stdout",
     "output_type": "stream",
     "text": [
      "['7']\n",
      "[[0.07366002 0.07020383 0.07738265 0.09966773 0.10457274 0.08100815\n",
      "  0.06109309 0.25417061 0.05409003 0.12415116]]\n"
     ]
    }
   ],
   "source": [
    "from sklearn.ensemble import RandomForestClassifier\n",
    "from sklearn.datasets import make_classification\n",
    "clf = RandomForestClassifier(max_depth=2, random_state=0)\n",
    "clf.fit(X,y)\n",
    "print(clf.predict([X_test[0]])) # ラベルを推定する関数は predict \n",
    "print(clf.predict_proba([X_test[0]])) # predict_proba はラベルごとに推定の確率"
   ]
  },
  {
   "cell_type": "code",
   "execution_count": 31,
   "id": "failing-forge",
   "metadata": {},
   "outputs": [
    {
     "data": {
      "text/plain": [
       "0.6364"
      ]
     },
     "execution_count": 31,
     "metadata": {},
     "output_type": "execute_result"
    }
   ],
   "source": [
    "# Random Forest を MNIST に適用して、精度を評価してみましょう。\n",
    "y_predict = clf.predict(X_test)\n",
    "accuracy_score(y_test, y_predict) # 精度を計算"
   ]
  },
  {
   "cell_type": "code",
   "execution_count": 32,
   "id": "structured-scenario",
   "metadata": {},
   "outputs": [],
   "source": [
    "# 決定木のほうがよかった 0.8777\n"
   ]
  },
  {
   "cell_type": "code",
   "execution_count": 33,
   "id": "finished-assurance",
   "metadata": {},
   "outputs": [],
   "source": [
    "y_train = y_train.astype(int)\n",
    "y_test = y_test.astype(int)"
   ]
  },
  {
   "cell_type": "code",
   "execution_count": 38,
   "id": "equivalent-grant",
   "metadata": {},
   "outputs": [
    {
     "name": "stdout",
     "output_type": "stream",
     "text": [
      "Train on 60000 samples\n",
      "Epoch 1/10\n",
      "60000/60000 [==============================] - 5s 78us/sample - loss: 9.6504 - acc: 0.8405\n",
      "Epoch 2/10\n",
      "60000/60000 [==============================] - 5s 76us/sample - loss: 6.1448 - acc: 0.8787\n",
      "Epoch 3/10\n",
      "60000/60000 [==============================] - 5s 76us/sample - loss: 5.6601 - acc: 0.8832\n",
      "Epoch 4/10\n",
      "60000/60000 [==============================] - 5s 76us/sample - loss: 5.5256 - acc: 0.8860\n",
      "Epoch 5/10\n",
      "60000/60000 [==============================] - 5s 76us/sample - loss: 5.3397 - acc: 0.8884\n",
      "Epoch 6/10\n",
      "60000/60000 [==============================] - 5s 76us/sample - loss: 5.2952 - acc: 0.8876\n",
      "Epoch 7/10\n",
      "60000/60000 [==============================] - 5s 76us/sample - loss: 5.3612 - acc: 0.8884\n",
      "Epoch 8/10\n",
      "60000/60000 [==============================] - 5s 76us/sample - loss: 5.2210 - acc: 0.8898\n",
      "Epoch 9/10\n",
      "60000/60000 [==============================] - 5s 76us/sample - loss: 5.2620 - acc: 0.8893\n",
      "Epoch 10/10\n",
      "60000/60000 [==============================] - 5s 76us/sample - loss: 5.0919 - acc: 0.8909\n"
     ]
    },
    {
     "data": {
      "text/plain": [
       "<tensorflow.python.keras.callbacks.History at 0x7fef120f1dd8>"
      ]
     },
     "execution_count": 38,
     "metadata": {},
     "output_type": "execute_result"
    }
   ],
   "source": [
    "import tensorflow as tf\n",
    "\n",
    "model = tf.keras.models.Sequential([\n",
    "    tf.keras.layers.Dense(10) # 入力から掛け算と足し算を行う Dense Layer と呼びます。10は出力数を表します。\n",
    "])\n",
    "\n",
    "# ニューラルネットワークで学習するときに、予測値と正解値の誤差を計算する式\n",
    "loss_fn = tf.keras.losses.SparseCategoricalCrossentropy(from_logits=True)\n",
    "\n",
    "# 誤差を使ってどのように学習するかの方法 adam\n",
    "# 習時にあわせて表示する評価指標です。accuracy は精度です。\n",
    "model.compile(optimizer='adam', loss=loss_fn, metrics=['accuracy'])\n",
    "\n",
    "model.fit(X_train, y_train, epochs=5 )\n",
    "\n",
    "# WARNING:tensorflow:From /home/ec2-user/anaconda3/envs/tensorflow_p36/cpu/lib/python3.6/site-packages/tensorflow_core/python/ops/resource_variable_ops.py:1630: calling BaseResourceVariable.__init__ (from tensorflow.python.ops.resource_variable_ops) with constraint is deprecated and will be removed in a future version.\n",
    "#Instructions for updating:\n",
    "#If using Keras pass *_constraint arguments to layers.\n",
    "#Train on 60000 samples\n",
    "#WARNING:tensorflow:OMP_NUM_THREADS is no longer used by the default Keras config. To configure the number of threads, use tf.config.threading APIs."
   ]
  },
  {
   "cell_type": "code",
   "execution_count": 39,
   "id": "suffering-orientation",
   "metadata": {},
   "outputs": [
    {
     "data": {
      "text/plain": [
       "array([[-108.550415 , -409.63553  ,  -64.443924 , ...,  243.56833  ,\n",
       "          33.62127  ,  121.634346 ],\n",
       "       [  76.15679  ,   63.120373 ,  430.9449   , ..., -871.63904  ,\n",
       "         169.12349  , -514.182    ],\n",
       "       [-237.41331  ,  137.28754  ,   57.0993   , ...,  -58.262165 ,\n",
       "          46.01     ,   -0.9050559],\n",
       "       ...,\n",
       "       [-345.55084  , -174.94257  ,  -25.418144 , ...,  116.41401  ,\n",
       "         132.63293  ,  157.26404  ],\n",
       "       [-233.63164  ,  -11.743449 ,  -61.618683 , ...,  -25.62085  ,\n",
       "         245.4998   ,  -47.749252 ],\n",
       "       [ -49.640804 , -317.44757  ,  169.96494  , ..., -384.14563  ,\n",
       "         -21.864725 , -176.35027  ]], dtype=float32)"
      ]
     },
     "execution_count": 39,
     "metadata": {},
     "output_type": "execute_result"
    }
   ],
   "source": [
    "predictions = model.predict(X_test)\n",
    "predictions"
   ]
  },
  {
   "cell_type": "code",
   "execution_count": 40,
   "id": "polyphonic-ladder",
   "metadata": {},
   "outputs": [
    {
     "data": {
      "text/plain": [
       "array([0.000000e+00, 0.000000e+00, 0.000000e+00, 6.359663e-23,\n",
       "       0.000000e+00, 0.000000e+00, 0.000000e+00, 1.000000e+00,\n",
       "       0.000000e+00, 0.000000e+00], dtype=float32)"
      ]
     },
     "execution_count": 40,
     "metadata": {},
     "output_type": "execute_result"
    }
   ],
   "source": [
    "#  確率を得るためには softmax という関数をかける\n",
    "from scipy.special import softmax\n",
    "probability = softmax(predictions, axis = 1)\n",
    "probability[0]"
   ]
  },
  {
   "cell_type": "code",
   "execution_count": 41,
   "id": "regional-agent",
   "metadata": {},
   "outputs": [
    {
     "data": {
      "text/plain": [
       "7"
      ]
     },
     "execution_count": 41,
     "metadata": {},
     "output_type": "execute_result"
    }
   ],
   "source": [
    "import numpy as np\n",
    "np.argmax(probability[0])"
   ]
  },
  {
   "cell_type": "code",
   "execution_count": 42,
   "id": "bulgarian-richardson",
   "metadata": {},
   "outputs": [],
   "source": [
    "y_predict = np.argmax(probability, axis=1)\n",
    "y_predict = y_predict.astype(str)"
   ]
  },
  {
   "cell_type": "code",
   "execution_count": 43,
   "id": "entire-modem",
   "metadata": {},
   "outputs": [
    {
     "name": "stdout",
     "output_type": "stream",
     "text": [
      "10000/10000 - 1s - loss: 5.3950 - acc: 0.9001\n"
     ]
    },
    {
     "data": {
      "text/plain": [
       "[5.39496651128116, 0.9001]"
      ]
     },
     "execution_count": 43,
     "metadata": {},
     "output_type": "execute_result"
    }
   ],
   "source": [
    "model.evaluate(X_test, y_test, verbose=2)"
   ]
  },
  {
   "cell_type": "code",
   "execution_count": 45,
   "id": "immediate-yugoslavia",
   "metadata": {},
   "outputs": [
    {
     "name": "stdout",
     "output_type": "stream",
     "text": [
      "Train on 60000 samples\n",
      "Epoch 1/5\n",
      "60000/60000 [==============================] - 13s 211us/sample - loss: 1.0445 - acc: 0.9382\n",
      "Epoch 2/5\n",
      "60000/60000 [==============================] - 12s 196us/sample - loss: 0.0801 - acc: 0.9759\n",
      "Epoch 3/5\n",
      "60000/60000 [==============================] - 12s 199us/sample - loss: 0.0651 - acc: 0.9797\n",
      "Epoch 4/5\n",
      "60000/60000 [==============================] - 12s 200us/sample - loss: 0.0589 - acc: 0.9817\n",
      "Epoch 5/5\n",
      "60000/60000 [==============================] - 12s 198us/sample - loss: 0.0426 - acc: 0.9873\n"
     ]
    },
    {
     "data": {
      "text/plain": [
       "<tensorflow.python.keras.callbacks.History at 0x7fef10136f98>"
      ]
     },
     "execution_count": 45,
     "metadata": {},
     "output_type": "execute_result"
    }
   ],
   "source": [
    "# 畳み込みを行うと画像の輪郭などを取り出すことができるので、どういう形をしているか把握するのに有用だった\n",
    "# 畳み込みニューラルネットワーク\n",
    "\n",
    "import tensorflow as tf\n",
    "input_shape = (28, 28, 1)\n",
    "model = tf.keras.models.Sequential([\n",
    "    #   Reshape を使って 28x28に戻して\n",
    "    tf.keras.layers.Reshape(input_shape),\n",
    "    #  畳み込みは Conv2D という関数で実行可能\n",
    "    tf.keras.layers.Conv2D(32, (3, 3), activation='relu', input_shape=input_shape),\n",
    "    tf.keras.layers.Flatten(),\n",
    "    tf.keras.layers.Dense(10)\n",
    "])\n",
    "\n",
    "loss_fn = tf.keras.losses.SparseCategoricalCrossentropy(from_logits=True)\n",
    "\n",
    "model.compile(optimizer='adam', loss=loss_fn, metrics=['accuracy'])\n",
    "model.fit(X_train, y_train, epochs=5)"
   ]
  },
  {
   "cell_type": "code",
   "execution_count": 46,
   "id": "above-photograph",
   "metadata": {},
   "outputs": [
    {
     "name": "stdout",
     "output_type": "stream",
     "text": [
      "Downloading data from https://www.cs.toronto.edu/~kriz/cifar-10-python.tar.gz\n",
      "170500096/170498071 [==============================] - 17s 0us/step\n"
     ]
    }
   ],
   "source": [
    "# カラー 、R (赤)、G (緑)、B(青) の3色の強さ\n",
    "(X_train_cl, y_train_cl), (X_test_cl,y_test_cl) = tf.keras.datasets.cifar10.load_data()"
   ]
  },
  {
   "cell_type": "code",
   "execution_count": 48,
   "id": "sound-click",
   "metadata": {},
   "outputs": [
    {
     "data": {
      "text/plain": [
       "<matplotlib.image.AxesImage at 0x7fef10043b00>"
      ]
     },
     "execution_count": 48,
     "metadata": {},
     "output_type": "execute_result"
    },
    {
     "data": {
      "image/png": "[encoded data removed]",
      "text/plain": [
       "<Figure size 432x288 with 1 Axes>"
      ]
     },
     "metadata": {
      "needs_background": "light"
     },
     "output_type": "display_data"
    }
   ],
   "source": [
    "plt.imshow(X_train_cl[0])"
   ]
  },
  {
   "cell_type": "code",
   "execution_count": 50,
   "id": "freelance-southeast",
   "metadata": {},
   "outputs": [
    {
     "name": "stdout",
     "output_type": "stream",
     "text": [
      "[6]\n"
     ]
    }
   ],
   "source": [
    "print(y_train_cl[0])"
   ]
  },
  {
   "cell_type": "code",
   "execution_count": 51,
   "id": "backed-intention",
   "metadata": {},
   "outputs": [],
   "source": [
    "X_train_cl = X_train_cl[:10000].astype(float)\n",
    "y_train_cl = y_train_cl[:10000]"
   ]
  },
  {
   "cell_type": "code",
   "execution_count": 56,
   "id": "congressional-taylor",
   "metadata": {},
   "outputs": [
    {
     "data": {
      "text/plain": [
       "(32, 32, 3)"
      ]
     },
     "execution_count": 56,
     "metadata": {},
     "output_type": "execute_result"
    }
   ],
   "source": [
    "X_train_cl[0].shape"
   ]
  },
  {
   "cell_type": "code",
   "execution_count": 59,
   "id": "governing-attitude",
   "metadata": {},
   "outputs": [
    {
     "name": "stdout",
     "output_type": "stream",
     "text": [
      "Train on 60000 samples\n",
      "Epoch 1/5\n",
      "60000/60000 [==============================] - 16s 262us/sample - loss: 0.8146 - acc: 0.9406\n",
      "Epoch 2/5\n",
      "60000/60000 [==============================] - 13s 220us/sample - loss: 0.0730 - acc: 0.9778\n",
      "Epoch 3/5\n",
      "60000/60000 [==============================] - 13s 209us/sample - loss: 0.0591 - acc: 0.9815\n",
      "Epoch 4/5\n",
      "60000/60000 [==============================] - 12s 207us/sample - loss: 0.0528 - acc: 0.9837\n",
      "Epoch 5/5\n",
      "60000/60000 [==============================] - 12s 203us/sample - loss: 0.0375 - acc: 0.9886\n"
     ]
    },
    {
     "data": {
      "text/plain": [
       "<tensorflow.python.keras.callbacks.History at 0x7fef00097a58>"
      ]
     },
     "execution_count": 59,
     "metadata": {},
     "output_type": "execute_result"
    }
   ],
   "source": [
    "import tensorflow as tf\n",
    "\n",
    "input_shape = (28, 28, 1)\n",
    "model = tf.keras.models.Sequential([\n",
    "    tf.keras.layers.Reshape(input_shape),\n",
    "    tf.keras.layers.Conv2D(32, (3, 3), activation='relu', input_shape=input_shape),\n",
    "    tf.keras.layers.Flatten(),\n",
    "    tf.keras.layers.Dense(10)\n",
    "])\n",
    "\n",
    "loss_fn = tf.keras.losses.SparseCategoricalCrossentropy(from_logits=True)\n",
    "\n",
    "model.compile(optimizer='adam', loss=loss_fn, metrics=['accuracy'])\n",
    "\n",
    "model.fit(X_train, y_train, epochs=5)"
   ]
  },
  {
   "cell_type": "code",
   "execution_count": 60,
   "id": "classified-jacksonville",
   "metadata": {},
   "outputs": [
    {
     "data": {
      "text/plain": [
       "{'0', '1', '2', '3', '4', '5', '6', '7', '8', '9'}"
      ]
     },
     "execution_count": 60,
     "metadata": {},
     "output_type": "execute_result"
    }
   ],
   "source": [
    "# ラベルのユニーク\n",
    "import numpy as np\n",
    "np.unique(y_train, return_counts=True)\n",
    "\n",
    "set(y)"
   ]
  },
  {
   "cell_type": "code",
   "execution_count": 61,
   "id": "intensive-office",
   "metadata": {},
   "outputs": [
    {
     "name": "stdout",
     "output_type": "stream",
     "text": [
      "10000/10000 - 1s - loss: 0.1700 - acc: 0.9721\n"
     ]
    },
    {
     "data": {
      "text/plain": [
       "[0.17003828730197285, 0.9721]"
      ]
     },
     "execution_count": 61,
     "metadata": {},
     "output_type": "execute_result"
    }
   ],
   "source": [
    "model.evaluate(X_test, y_test, verbose=2)"
   ]
  },
  {
   "cell_type": "code",
   "execution_count": null,
   "id": "solved-tournament",
   "metadata": {},
   "outputs": [],
   "source": []
  }
 ],
 "metadata": {
  "kernelspec": {
   "display_name": "conda_tensorflow_p36",
   "language": "python",
   "name": "conda_tensorflow_p36"
  },
  "language_info": {
   "codemirror_mode": {
    "name": "ipython",
    "version": 3
   },
   "file_extension": ".py",
   "mimetype": "text/x-python",
   "name": "python",
   "nbconvert_exporter": "python",
   "pygments_lexer": "ipython3",
   "version": "3.6.13"
  }
 },
 "nbformat": 4,
 "nbformat_minor": 5
}
